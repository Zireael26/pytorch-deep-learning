{
 "cells": [
  {
   "cell_type": "markdown",
   "id": "aa68d724",
   "metadata": {},
   "source": [
    "# 01. PyTorch Workflow Fundamentals"
   ]
  },
  {
   "cell_type": "code",
   "execution_count": 1,
   "id": "11bb652b",
   "metadata": {},
   "outputs": [],
   "source": [
    "what_were_covering = {\n",
    "    1: \"data (prep and load)\",\n",
    "    2: \"build model\",\n",
    "    3: \"fitting the model to data (training)\",\n",
    "    4: \"making predictions and evaluating the model\",\n",
    "    5: \"saving and loading the model\",\n",
    "    6: \"putting it all together (end to end example)\",\n",
    "}"
   ]
  },
  {
   "cell_type": "code",
   "execution_count": 3,
   "id": "86813f17",
   "metadata": {},
   "outputs": [
    {
     "name": "stdout",
     "output_type": "stream",
     "text": [
      "Using device: mps with PyTorch version: 2.8.0\n"
     ]
    }
   ],
   "source": [
    "import torch\n",
    "from torch import nn # Contains all of PyTorch's building blocks for neural networks\n",
    "import matplotlib.pyplot as plt\n",
    "import numpy as np\n",
    "\n",
    "device = \"mps\" if torch.backends.mps.is_available() else \"cpu\"\n",
    "print(f\"Using device: {device} with PyTorch version: {torch.__version__}\")"
   ]
  },
  {
   "cell_type": "markdown",
   "id": "779ec5f8",
   "metadata": {},
   "source": [
    "## 1. Data - Prep and load\n",
    "\n",
    "Data can be almost anything in the context of machine learning.\n",
    "* Excel spreadsheet\n",
    "* Images of any kind\n",
    "* Videos\n",
    "* Audio files\n",
    "* DNA sequences\n",
    "* Text\n",
    "\n",
    "Machine learning is a game of two parts:\n",
    "1. Get data into a numercial representation.\n",
    "2. Build model to learn patterns in data.\n",
    "\n",
    "We'll use a Linear Regression formula to make a straight line with _known_ parameters."
   ]
  },
  {
   "cell_type": "code",
   "execution_count": 6,
   "id": "02b82ef4",
   "metadata": {},
   "outputs": [
    {
     "name": "stdout",
     "output_type": "stream",
     "text": [
      "X.shape=torch.Size([50, 1]), y.shape=torch.Size([50, 1])\n",
      "X[:10]=tensor([[0.0000],\n",
      "        [0.0200],\n",
      "        [0.0400],\n",
      "        [0.0600],\n",
      "        [0.0800],\n",
      "        [0.1000],\n",
      "        [0.1200],\n",
      "        [0.1400],\n",
      "        [0.1600],\n",
      "        [0.1800]]),\n",
      "y[:10]=tensor([[0.3000],\n",
      "        [0.3140],\n",
      "        [0.3280],\n",
      "        [0.3420],\n",
      "        [0.3560],\n",
      "        [0.3700],\n",
      "        [0.3840],\n",
      "        [0.3980],\n",
      "        [0.4120],\n",
      "        [0.4260]])\n",
      "len(X)=50,\n",
      "len(y)=50\n"
     ]
    }
   ],
   "source": [
    "# Create known parameters\n",
    "weight = 0.7\n",
    "bias = 0.3\n",
    "\n",
    "# Create data\n",
    "start = 0\n",
    "end = 1\n",
    "step = 0.02\n",
    "\n",
    "X = torch.arange(start, end, step).unsqueeze(dim=1) # shape (n_samples, n_features) -> (50, 1)\n",
    "y = weight * X + bias # shape (n_samples, n_features) -> (50, 1)\n",
    "\n",
    "print(f\"{X.shape=}, {y.shape=}\")\n",
    "print(f\"{X[:10]=},\\n{y[:10]=}\")\n",
    "print(f\"{len(X)=},\\n{len(y)=}\")"
   ]
  },
  {
   "cell_type": "markdown",
   "id": "4d6c47d2",
   "metadata": {},
   "source": [
    "### Data Split (Test-Train split)"
   ]
  }
 ],
 "metadata": {
  "kernelspec": {
   "display_name": ".venv (3.12.10)",
   "language": "python",
   "name": "python3"
  },
  "language_info": {
   "codemirror_mode": {
    "name": "ipython",
    "version": 3
   },
   "file_extension": ".py",
   "mimetype": "text/x-python",
   "name": "python",
   "nbconvert_exporter": "python",
   "pygments_lexer": "ipython3",
   "version": "3.12.10"
  }
 },
 "nbformat": 4,
 "nbformat_minor": 5
}
