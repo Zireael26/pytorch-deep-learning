{
 "cells": [
  {
   "cell_type": "markdown",
   "id": "856ab6fc",
   "metadata": {},
   "source": [
    "# 02. PyTorch Neural Network Classification"
   ]
  },
  {
   "cell_type": "code",
   "execution_count": null,
   "id": "53dadb44",
   "metadata": {},
   "outputs": [],
   "source": [
    "from sklearn.datasets import make_circles\n",
    "import torch\n",
    "import torch.nn as nn\n",
    "from matplotlib import pyplot as plt\n",
    "\n",
    "# Device Setup\n",
    "device = \"cpu\"\n",
    "if torch.cuda.is_available():\n",
    "    device = \"cuda\"\n",
    "elif torch.backends.mps.is_available():\n",
    "    device = \"mps\"\n",
    "print(f\"Using device: {device}, with torch version: {torch.__version__}\")\n",
    "\n",
    "# Make 1000 samples\n",
    "n_samples = 1000\n",
    "\n",
    "# Create circles\n",
    "X, y = make_circles(n_samples, noise=0.03, random_state=42)\n",
    "print(f\"First 5 samples of X:\\n{X[:5]}\")\n",
    "print(f\"First 5 labels of y:\\n{y[:5]}\")"
   ]
  },
  {
   "cell_type": "code",
   "execution_count": null,
   "id": "be186dc6",
   "metadata": {},
   "outputs": [],
   "source": [
    "# Make DataFrames of the circles data\n",
    "import pandas as pd\n",
    "\n",
    "circles = pd.DataFrame({\n",
    "    \"X1\": X[:, 0],\n",
    "    \"X2\": X[:, 1],\n",
    "    \"label\": y\n",
    "})\n",
    "circles.head(10)"
   ]
  },
  {
   "cell_type": "code",
   "execution_count": null,
   "id": "f786b0c5",
   "metadata": {},
   "outputs": [],
   "source": [
    "# Visualize with a scatter plot\n",
    "plt.scatter(x=X[:, 0],\n",
    "            y=X[:, 1],\n",
    "            c=y,\n",
    "            cmap=plt.cm.RdYlBu)\n",
    "plt.xlabel(\"X1\")\n",
    "plt.ylabel(\"X2\")\n",
    "plt.title(\"Make Circles Dataset\")\n",
    "plt.show()"
   ]
  },
  {
   "cell_type": "code",
   "execution_count": null,
   "id": "8231051a",
   "metadata": {},
   "outputs": [],
   "source": [
    "print(f\"{X.shape=}, {y.shape=}\")\n",
    "X, y = torch.tensor(X).type(torch.float).to(device), torch.tensor(y).type(torch.float).to(device)\n",
    "\n",
    "print(f\"{X[:5]=}, \\n{y[:5]=}\")"
   ]
  },
  {
   "cell_type": "code",
   "execution_count": null,
   "id": "ba0aa6e6",
   "metadata": {},
   "outputs": [],
   "source": [
    "# Train/Test Split\n",
    "from sklearn.model_selection import train_test_split\n",
    "\n",
    "X_train, X_test, y_train, y_test = train_test_split(X, y, test_size=0.2, random_state=42)\n",
    "print(f\"{X_train.shape=}, {X_test.shape=}, {y_train.shape=}, {y_test.shape=}\")"
   ]
  }
 ],
 "metadata": {
  "kernelspec": {
   "display_name": ".venv (3.12.10)",
   "language": "python",
   "name": "python3"
  },
  "language_info": {
   "codemirror_mode": {
    "name": "ipython",
    "version": 3
   },
   "file_extension": ".py",
   "mimetype": "text/x-python",
   "name": "python",
   "nbconvert_exporter": "python",
   "pygments_lexer": "ipython3",
   "version": "3.12.10"
  }
 },
 "nbformat": 4,
 "nbformat_minor": 5
}
