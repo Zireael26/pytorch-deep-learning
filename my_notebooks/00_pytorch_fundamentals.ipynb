{
 "cells": [
  {
   "cell_type": "markdown",
   "id": "c053ce2c",
   "metadata": {},
   "source": [
    "# 00. PyTorch Fundamentals"
   ]
  },
  {
   "cell_type": "code",
   "execution_count": 1,
   "id": "150eb39e",
   "metadata": {},
   "outputs": [
    {
     "name": "stdout",
     "output_type": "stream",
     "text": [
      "2.8.0\n"
     ]
    }
   ],
   "source": [
    "import torch\n",
    "import pandas as pd\n",
    "import numpy as np\n",
    "import matplotlib.pyplot as plt\n",
    "\n",
    "device = torch.device(\"mps\") if (torch.mps.is_available()) else torch.device(\"cpu\")\n",
    "print(torch.__version__)"
   ]
  },
  {
   "cell_type": "markdown",
   "id": "e2bce064",
   "metadata": {},
   "source": [
    "## Intro to Tensors\n",
    "### Creating Tensors"
   ]
  },
  {
   "cell_type": "code",
   "execution_count": 2,
   "id": "7d1e100e",
   "metadata": {},
   "outputs": [
    {
     "name": "stdout",
     "output_type": "stream",
     "text": [
      "tensor(7)\n",
      "0\n",
      "7\n",
      "torch.int64\n"
     ]
    }
   ],
   "source": [
    "# scalar\n",
    "scalar = torch.tensor(7)\n",
    "print(scalar)\n",
    "print(scalar.ndim) # number of dimensions\n",
    "print(scalar.item()) # get the value of a tensor as a standard python number\n",
    "print(scalar.dtype) # data type of the tensor"
   ]
  },
  {
   "cell_type": "code",
   "execution_count": 3,
   "id": "6f0ce74f",
   "metadata": {},
   "outputs": [
    {
     "name": "stdout",
     "output_type": "stream",
     "text": [
      "tensor([7, 7])\n",
      "1\n",
      "torch.Size([2])\n",
      "tensor(7) tensor(7)\n",
      "torch.int64\n"
     ]
    }
   ],
   "source": [
    "# Vector\n",
    "vector = torch.tensor([7, 7])\n",
    "print(vector)\n",
    "print(vector.ndim)\n",
    "print(vector.shape)\n",
    "print(vector[0], vector[1])\n",
    "print(vector.dtype)"
   ]
  },
  {
   "cell_type": "code",
   "execution_count": 4,
   "id": "fc9e7a38",
   "metadata": {},
   "outputs": [
    {
     "name": "stdout",
     "output_type": "stream",
     "text": [
      "tensor([[ 7,  8],\n",
      "        [ 9, 10]])\n",
      "2\n",
      "torch.Size([2, 2])\n",
      "tensor([7, 8]) tensor([ 9, 10])\n",
      "torch.int64\n"
     ]
    }
   ],
   "source": [
    "# MATRIX\n",
    "matrix = torch.tensor([[7, 8],\n",
    "                       [9, 10]])\n",
    "print(matrix)\n",
    "print(matrix.ndim)\n",
    "print(matrix.shape)\n",
    "print(matrix[0], matrix[1])\n",
    "print(matrix.dtype)"
   ]
  },
  {
   "cell_type": "code",
   "execution_count": 5,
   "id": "1e0fdcd6",
   "metadata": {},
   "outputs": [
    {
     "name": "stdout",
     "output_type": "stream",
     "text": [
      "tensor([[[1, 2, 3],\n",
      "         [4, 5, 6],\n",
      "         [7, 8, 9]]])\n",
      "3\n",
      "torch.Size([1, 3, 3])\n",
      "tensor([[1, 2, 3],\n",
      "        [4, 5, 6],\n",
      "        [7, 8, 9]])\n",
      "torch.int64\n"
     ]
    }
   ],
   "source": [
    "# Tensor\n",
    "tensor = torch.tensor([[[1, 2, 3],\n",
    "                        [4, 5, 6],\n",
    "                        [7, 8, 9]]])\n",
    "print(tensor)\n",
    "print(tensor.ndim)\n",
    "print(tensor.shape)\n",
    "print(tensor[0])\n",
    "print(tensor.dtype)"
   ]
  },
  {
   "cell_type": "markdown",
   "id": "621eb4c6",
   "metadata": {},
   "source": [
    "### Random Tensors\n",
    "\n",
    "Why Random Tensors?\n",
    "\n",
    "Random tensors are important because the way many NN learn is that they start with tensors full of random numbers and then adjust those random numbers to better represent the data.\n",
    "\n",
    "```Start with random numbers -> look at data -> update random numbers -> look at data -> update random numbers```"
   ]
  },
  {
   "cell_type": "code",
   "execution_count": 6,
   "id": "e59c2449",
   "metadata": {},
   "outputs": [
    {
     "name": "stdout",
     "output_type": "stream",
     "text": [
      "tensor([[0.7034, 0.2769, 0.5494, 0.4902],\n",
      "        [0.6289, 0.2099, 0.6295, 0.9087],\n",
      "        [0.0486, 0.2553, 0.8498, 0.7837]])\n",
      "torch.Size([3, 4])\n",
      "torch.float32\n",
      "2\n"
     ]
    }
   ],
   "source": [
    "# Create a random tensor of size (3,4)\n",
    "random_tensor = torch.rand(3,4)\n",
    "print(random_tensor)\n",
    "print(random_tensor.shape)\n",
    "print(random_tensor.dtype)\n",
    "print(random_tensor.ndim)"
   ]
  },
  {
   "cell_type": "code",
   "execution_count": 7,
   "id": "6c361282",
   "metadata": {},
   "outputs": [
    {
     "name": "stdout",
     "output_type": "stream",
     "text": [
      "torch.Size([3, 224, 224])\n",
      "3\n",
      "torch.float32\n"
     ]
    }
   ],
   "source": [
    "# Create a random tensor with similar shape to an image\n",
    "random_image_tensor = torch.rand(size=(3, 224, 224)) # color channels (RGB), height, width\n",
    "print(random_image_tensor.shape)\n",
    "print(random_image_tensor.ndim)\n",
    "print(random_image_tensor.dtype)"
   ]
  },
  {
   "cell_type": "code",
   "execution_count": 8,
   "id": "93187f8e",
   "metadata": {},
   "outputs": [
    {
     "name": "stdout",
     "output_type": "stream",
     "text": [
      "tensor([[0., 0., 0., 0.],\n",
      "        [0., 0., 0., 0.],\n",
      "        [0., 0., 0., 0.]])\n",
      "tensor([[1., 1., 1., 1.],\n",
      "        [1., 1., 1., 1.],\n",
      "        [1., 1., 1., 1.]])\n"
     ]
    }
   ],
   "source": [
    "# Create a tensor of all zeros\n",
    "zeros = torch.zeros(size=(3,4))\n",
    "print(zeros)\n",
    "\n",
    "# Create a tensor of all ones\n",
    "ones = torch.ones(size=(3,4))\n",
    "print(ones)"
   ]
  },
  {
   "cell_type": "markdown",
   "id": "98cc3e5a",
   "metadata": {},
   "source": [
    "### Creating a range of tensors and tensors-like"
   ]
  },
  {
   "cell_type": "code",
   "execution_count": 9,
   "id": "b61b1e38",
   "metadata": {},
   "outputs": [
    {
     "name": "stdout",
     "output_type": "stream",
     "text": [
      "tensor([0, 2, 4, 6, 8])\n"
     ]
    }
   ],
   "source": [
    "# Using torch.arange()\n",
    "range_tensor = torch.arange(start=0, end=10, step=2)\n",
    "print(range_tensor)"
   ]
  },
  {
   "cell_type": "code",
   "execution_count": 10,
   "id": "fb0aba51",
   "metadata": {},
   "outputs": [
    {
     "name": "stdout",
     "output_type": "stream",
     "text": [
      "tensor([0, 0, 0, 0, 0])\n",
      "torch.Size([3, 224, 224])\n",
      "torch.float32\n",
      "torch.float16\n",
      "mps:0\n"
     ]
    }
   ],
   "source": [
    "# Creating tensors-like\n",
    "like_tensor = torch.zeros_like(range_tensor)\n",
    "print(like_tensor)\n",
    "\n",
    "image_like_tensor = torch.rand_like(random_image_tensor)\n",
    "print(image_like_tensor.shape)\n",
    "print(image_like_tensor.dtype)\n",
    "\n",
    "float_16_tensor = image_like_tensor.type(torch.float16).to(device)\n",
    "print(float_16_tensor.dtype)\n",
    "print(float_16_tensor.device)"
   ]
  },
  {
   "cell_type": "markdown",
   "id": "7a9fb10a",
   "metadata": {},
   "source": [
    "## Manipulating Tensors\n",
    "Operations could include:\n",
    "* Addition\n",
    "* Subtraction\n",
    "* Multiplication (element-wise)\n",
    "* Division\n",
    "* Matrix Multiplication"
   ]
  },
  {
   "cell_type": "code",
   "execution_count": 11,
   "id": "6469dfbf",
   "metadata": {},
   "outputs": [
    {
     "name": "stdout",
     "output_type": "stream",
     "text": [
      "tensor([1, 2, 3]) torch.int64\n",
      "tensor([11, 12, 13]) torch.int64\n",
      "tensor([1, 2, 3]) torch.int64\n",
      "tensor([10, 20, 30]) torch.int64\n",
      "tensor([100, 400, 900]) torch.int64\n"
     ]
    }
   ],
   "source": [
    "tensor = torch.tensor([1, 2, 3])\n",
    "print(tensor, tensor.dtype)\n",
    "tensor += 10\n",
    "print(tensor, tensor.dtype)\n",
    "tensor -= 10\n",
    "print(tensor, tensor.dtype)\n",
    "tensor *= 10\n",
    "print(tensor, tensor.dtype)\n",
    "tensor **= 2\n",
    "print(tensor, tensor.dtype)"
   ]
  },
  {
   "cell_type": "code",
   "execution_count": 12,
   "id": "cdb6fdfb",
   "metadata": {},
   "outputs": [
    {
     "name": "stdout",
     "output_type": "stream",
     "text": [
      "torch.abs(torch.tensor([-1, -2, -3])) = tensor([1, 2, 3])\n",
      "torch.sin(torch.tensor([0, np.pi/2, np.pi])) = tensor([ 0.0000e+00,  1.0000e+00, -8.7423e-08])\n",
      "torch.log(torch.tensor([1, np.e, np.e**2])) = tensor([0.0000, 1.0000, 2.0000])\n",
      "torch.exp(torch.tensor([0, 1, 2])) = tensor([1.0000, 2.7183, 7.3891])\n",
      "torch.sqrt(torch.tensor([1, 4, 9, 16])) = tensor([1., 2., 3., 4.])\n",
      "torch.round(torch.tensor([1.2, 1.5, 1.7])) = tensor([1., 2., 2.])\n",
      "torch.sum(torch.tensor([1, 2, 3, 4, 5])) = tensor(15)\n",
      "torch.mean(torch.tensor([1, 2, 3, 4, 5]), dtype=torch.float32) = tensor(3.)\n",
      "torch.max(torch.tensor([1, 2, 3, 4, 5])) = tensor(5)\n",
      "torch.min(torch.tensor([1, 2, 3, 4, 5])) = tensor(1)\n",
      "torch.argmax(torch.tensor([1, 2, 3, 4, 5])) = tensor(4)\n",
      "torch.argmin(torch.tensor([1, 2, 3, 4, 5])) = tensor(0)\n"
     ]
    }
   ],
   "source": [
    "# Pytroch inbuilt functions\n",
    "print(f\"{torch.abs(torch.tensor([-1, -2, -3])) = }\")\n",
    "print(f\"{torch.sin(torch.tensor([0, np.pi/2, np.pi])) = }\")\n",
    "print(f\"{torch.log(torch.tensor([1, np.e, np.e**2])) = }\")\n",
    "print(f\"{torch.exp(torch.tensor([0, 1, 2])) = }\")\n",
    "print(f\"{torch.sqrt(torch.tensor([1, 4, 9, 16])) = }\")\n",
    "print(f\"{torch.round(torch.tensor([1.2, 1.5, 1.7])) = }\")\n",
    "print(f\"{torch.sum(torch.tensor([1, 2, 3, 4, 5])) = }\")\n",
    "print(f\"{torch.mean(torch.tensor([1, 2, 3, 4, 5]), dtype=torch.float32) = }\")\n",
    "print(f\"{torch.max(torch.tensor([1, 2, 3, 4, 5])) = }\")\n",
    "print(f\"{torch.min(torch.tensor([1, 2, 3, 4, 5])) = }\")\n",
    "print(f\"{torch.argmax(torch.tensor([1, 2, 3, 4, 5])) = }\")\n",
    "print(f\"{torch.argmin(torch.tensor([1, 2, 3, 4, 5])) = }\")\n"
   ]
  },
  {
   "cell_type": "markdown",
   "id": "87ba4e8a",
   "metadata": {},
   "source": [
    "### Matrix Multiplication\n",
    "\n",
    "Two main ways of performing multiplication are:\n",
    "1. Element-wise multiplication\n",
    "2. Matrix Multiplication (dot product)\n",
    "\n",
    "The two main rules of performing matrix multiplication needs to satisfy:\n",
    "1. The **inner dimensions** must match.\n",
    "2. The resulting matrix has the dimensions of the **outer dimensions**."
   ]
  },
  {
   "cell_type": "code",
   "execution_count": 13,
   "id": "ba7a453e",
   "metadata": {},
   "outputs": [
    {
     "name": "stdout",
     "output_type": "stream",
     "text": [
      "tensor([ 4, 10, 18])\n",
      "tensor([ 4, 10, 18])\n"
     ]
    }
   ],
   "source": [
    "# Element wise multiplication\n",
    "print(torch.mul(torch.tensor([1, 2, 3]), torch.tensor([4, 5, 6])))\n",
    "print(torch.tensor([1, 2, 3]) * torch.tensor([4, 5, 6]))"
   ]
  },
  {
   "cell_type": "code",
   "execution_count": 14,
   "id": "b7812a78",
   "metadata": {},
   "outputs": [
    {
     "name": "stdout",
     "output_type": "stream",
     "text": [
      "tensor([[19, 22],\n",
      "        [43, 50]])\n",
      "tensor([[19, 22],\n",
      "        [43, 50]])\n"
     ]
    }
   ],
   "source": [
    "# Matrix multiplication\n",
    "print(torch.matmul(\n",
    "    torch.tensor([[1, 2],\n",
    "                [3, 4]]),                 \n",
    "    torch.tensor([[5, 6],\n",
    "                [7, 8]])))\n",
    "print(\n",
    "    torch.tensor([[1, 2],\n",
    "                [3, 4]]) @ \n",
    "    torch.tensor([[5, 6],\n",
    "                [7, 8]]))"
   ]
  },
  {
   "cell_type": "markdown",
   "id": "a2f6bd5c",
   "metadata": {},
   "source": [
    "### Shape Error: One of the most common errors in deep learning."
   ]
  },
  {
   "cell_type": "code",
   "execution_count": 15,
   "id": "77babbc2",
   "metadata": {},
   "outputs": [
    {
     "name": "stdout",
     "output_type": "stream",
     "text": [
      "torch.Size([2, 3]) torch.Size([3, 2]) torch.Size([2, 3])\n",
      "tensor([[ 58,  64],\n",
      "        [139, 154]])\n"
     ]
    }
   ],
   "source": [
    "# Shapes for matrix multiplication\n",
    "tensor_A = torch.tensor([[1, 2, 3],\n",
    "                        [4, 5, 6]]) # (2, 3)\n",
    "tensor_B = torch.tensor([[7, 8],\n",
    "                        [9, 10],    \n",
    "                        [11, 12]]) # (3, 2)\n",
    "tensor_C = torch.tensor([[1, 2, 3],\n",
    "                        [4, 5, 6]]) # (2, 3)\n",
    "print(tensor_A.shape, tensor_B.shape, tensor_C.shape)\n",
    "# print(torch.mm(tensor_A, tensor_B))\n",
    "# print(tensor_A @ tensor_B)\n",
    "print(torch.matmul(tensor_A, tensor_B))\n",
    "# print(torch.matmul(tensor_A, tensor_C)) # Shape Error"
   ]
  },
  {
   "cell_type": "markdown",
   "id": "025ff0ab",
   "metadata": {},
   "source": [
    "To fix tensor shape issues, we can manipulate one of our tensors using a transpose.\n",
    "A **transpose** switches the axes or dimensions of a given tensor."
   ]
  },
  {
   "cell_type": "code",
   "execution_count": 16,
   "id": "aa4863ee",
   "metadata": {},
   "outputs": [
    {
     "name": "stdout",
     "output_type": "stream",
     "text": [
      "tensor([[1, 4],\n",
      "        [2, 5],\n",
      "        [3, 6]])\n",
      "torch.Size([3, 2])\n",
      "tensor([[14, 32],\n",
      "        [32, 77]])\n"
     ]
    }
   ],
   "source": [
    "print(tensor_C.T)\n",
    "print(tensor_C.T.shape)\n",
    "print(torch.matmul(tensor_A, tensor_C.T))"
   ]
  },
  {
   "cell_type": "code",
   "execution_count": 17,
   "id": "f5639d22",
   "metadata": {},
   "outputs": [
    {
     "name": "stdout",
     "output_type": "stream",
     "text": [
      "Original shapes: torch.Size([2, 3]) and torch.Size([2, 3])\n",
      "New Shapes: torch.Size([2, 3]) (same as before) and torch.Size([3, 2]) (transposed)\n",
      "Multiplying: torch.Size([2, 3]) and torch.Size([3, 2]) <- Inner dimensions must match\n",
      "output = tensor([[14, 32],\n",
      "        [32, 77]])\n",
      "Output Shape: torch.Size([2, 2])\n"
     ]
    }
   ],
   "source": [
    "print(f\"Original shapes: {tensor_A.shape} and {tensor_C.shape}\")\n",
    "print(f\"New Shapes: {tensor_A.shape} (same as before) and {tensor_C.T.shape} (transposed)\")\n",
    "print(f\"Multiplying: {tensor_A.shape} and {tensor_C.T.shape} <- Inner dimensions must match\")\n",
    "output = torch.matmul(tensor_A, tensor_C.T)\n",
    "print(f\"{output = }\")\n",
    "print(f\"Output Shape: {output.shape}\")"
   ]
  },
  {
   "cell_type": "markdown",
   "id": "befc1088",
   "metadata": {},
   "source": [
    "## Reshaping, stacking, squeezing and unsqueezing tensors\n",
    "\n",
    "* Reshaping - Reshapes an input tensor to a defined shape\n",
    "* View - Return a view of an input tensor of a certain shape but keep the same memory as the original tensor\n",
    "* Stacking - Combine multiple tensors on top of each other (vstack) or side by side (hstack)\n",
    "* Squeeze - Removes all `1` dimensions from a tensor.\n",
    "* Unsqueeze - Adds a `1` dimension to a target tensor.\n",
    "* Permute - Return a view of the input with dimensions permuted (swapped) in a certain way"
   ]
  },
  {
   "cell_type": "code",
   "execution_count": 18,
   "id": "1f1ae437",
   "metadata": {},
   "outputs": [
    {
     "name": "stdout",
     "output_type": "stream",
     "text": [
      "tensor([1., 2., 3., 4., 5., 6., 7., 8.]) torch.Size([8])\n"
     ]
    }
   ],
   "source": [
    "x = torch.arange(1., 9.)\n",
    "print(x, x.shape)"
   ]
  },
  {
   "cell_type": "code",
   "execution_count": 19,
   "id": "b1630ab2",
   "metadata": {},
   "outputs": [
    {
     "name": "stdout",
     "output_type": "stream",
     "text": [
      "tensor([[[1., 2.],\n",
      "         [3., 4.]],\n",
      "\n",
      "        [[5., 6.],\n",
      "         [7., 8.]]]) torch.Size([2, 2, 2])\n"
     ]
    }
   ],
   "source": [
    "x_reshaped = x.reshape(2, 2, 2)\n",
    "print(x_reshaped, x_reshaped.shape)"
   ]
  },
  {
   "cell_type": "code",
   "execution_count": 20,
   "id": "90dad881",
   "metadata": {},
   "outputs": [
    {
     "name": "stdout",
     "output_type": "stream",
     "text": [
      "tensor([[1., 2., 3., 4.],\n",
      "        [5., 6., 7., 8.]]) torch.Size([2, 4])\n"
     ]
    }
   ],
   "source": [
    "# Change the view\n",
    "x_view = x.view(2, 4)\n",
    "print(x_view, x_view.shape)"
   ]
  },
  {
   "cell_type": "markdown",
   "id": "f65025ed",
   "metadata": {},
   "source": [
    "### Changing anything in the view will change the original tensor, as they share the same memory"
   ]
  },
  {
   "cell_type": "code",
   "execution_count": 21,
   "id": "53591aa7",
   "metadata": {},
   "outputs": [
    {
     "name": "stdout",
     "output_type": "stream",
     "text": [
      "tensor([100.,   2.,   3.,   4., 100.,   6.,   7.,   8.])\n",
      "tensor([[100.,   2.,   3.,   4.],\n",
      "        [100.,   6.,   7.,   8.]])\n",
      "tensor([[[100.,   2.],\n",
      "         [  3.,   4.]],\n",
      "\n",
      "        [[100.,   6.],\n",
      "         [  7.,   8.]]])\n"
     ]
    }
   ],
   "source": [
    "x_view[:, 0] = 100\n",
    "print(x)\n",
    "print(x_view)\n",
    "print(x_reshaped)"
   ]
  },
  {
   "cell_type": "code",
   "execution_count": 22,
   "id": "1daea5be",
   "metadata": {},
   "outputs": [
    {
     "name": "stdout",
     "output_type": "stream",
     "text": [
      "tensor([[100.,   2.,   3.,   4., 100.,   6.,   7.,   8.],\n",
      "        [100.,   2.,   3.,   4., 100.,   6.,   7.,   8.],\n",
      "        [100.,   2.,   3.,   4., 100.,   6.,   7.,   8.],\n",
      "        [100.,   2.,   3.,   4., 100.,   6.,   7.,   8.]])\n",
      "torch.Size([4, 8])\n"
     ]
    }
   ],
   "source": [
    "# Stack some tensors together\n",
    "x_stacked = torch.stack([x, x, x, x], dim=0)\n",
    "print(x_stacked)\n",
    "print(x_stacked.shape)\n"
   ]
  },
  {
   "cell_type": "code",
   "execution_count": 23,
   "id": "2b006321",
   "metadata": {},
   "outputs": [
    {
     "name": "stdout",
     "output_type": "stream",
     "text": [
      "tensor([[100., 100., 100., 100.],\n",
      "        [  2.,   2.,   2.,   2.],\n",
      "        [  3.,   3.,   3.,   3.],\n",
      "        [  4.,   4.,   4.,   4.],\n",
      "        [100., 100., 100., 100.],\n",
      "        [  6.,   6.,   6.,   6.],\n",
      "        [  7.,   7.,   7.,   7.],\n",
      "        [  8.,   8.,   8.,   8.]])\n",
      "torch.Size([8, 4])\n"
     ]
    }
   ],
   "source": [
    "x_stacked = torch.stack([x, x, x, x], dim=1)\n",
    "print(x_stacked)\n",
    "print(x_stacked.shape)"
   ]
  },
  {
   "cell_type": "code",
   "execution_count": 24,
   "id": "1f605a67",
   "metadata": {},
   "outputs": [
    {
     "name": "stdout",
     "output_type": "stream",
     "text": [
      "tensor([[100.,   2.,   3.,   4., 100.,   6.,   7.,   8.],\n",
      "        [100.,   2.,   3.,   4., 100.,   6.,   7.,   8.],\n",
      "        [100.,   2.,   3.,   4., 100.,   6.,   7.,   8.],\n",
      "        [100.,   2.,   3.,   4., 100.,   6.,   7.,   8.]])\n",
      "torch.Size([4, 8])\n"
     ]
    }
   ],
   "source": [
    "x_stacked = torch.vstack([x, x, x, x])\n",
    "print(x_stacked)\n",
    "print(x_stacked.shape)"
   ]
  },
  {
   "cell_type": "code",
   "execution_count": 25,
   "id": "558f454a",
   "metadata": {},
   "outputs": [
    {
     "name": "stdout",
     "output_type": "stream",
     "text": [
      "tensor([100.,   2.,   3.,   4., 100.,   6.,   7.,   8., 100.,   2.,   3.,   4.,\n",
      "        100.,   6.,   7.,   8., 100.,   2.,   3.,   4., 100.,   6.,   7.,   8.,\n",
      "        100.,   2.,   3.,   4., 100.,   6.,   7.,   8.])\n",
      "torch.Size([32])\n"
     ]
    }
   ],
   "source": [
    "x_stacked = torch.hstack([x, x, x, x])\n",
    "print(x_stacked)\n",
    "print(x_stacked.shape)"
   ]
  },
  {
   "cell_type": "code",
   "execution_count": 26,
   "id": "7e1961fd",
   "metadata": {},
   "outputs": [
    {
     "name": "stdout",
     "output_type": "stream",
     "text": [
      "tensor([0., 0., 0., 0., 0., 0., 0., 0., 0., 0.])\n",
      "torch.Size([10])\n",
      "tensor([[0., 0., 0., 0., 0., 0., 0., 0., 0., 0.]])\n",
      "torch.Size([1, 10])\n",
      "tensor([[0.],\n",
      "        [0.],\n",
      "        [0.],\n",
      "        [0.],\n",
      "        [0.],\n",
      "        [0.],\n",
      "        [0.],\n",
      "        [0.],\n",
      "        [0.],\n",
      "        [0.]])\n",
      "torch.Size([10, 1])\n",
      "tensor([0., 0., 0., 0., 0., 0., 0., 0., 0., 0.])\n",
      "torch.Size([10])\n"
     ]
    }
   ],
   "source": [
    "# Squeeze and Unsqueeze\n",
    "zeros = torch.zeros(10)\n",
    "print(zeros)\n",
    "print(zeros.shape)\n",
    "\n",
    "zeros_unsqueezed = zeros.unsqueeze(dim=0)\n",
    "print(zeros_unsqueezed)\n",
    "print(zeros_unsqueezed.shape)\n",
    "\n",
    "zeros_unsqueezed = zeros.unsqueeze(dim=1)\n",
    "print(zeros_unsqueezed)\n",
    "print(zeros_unsqueezed.shape)\n",
    "\n",
    "zeros_squeezed = zeros_unsqueezed.squeeze()\n",
    "print(zeros_squeezed)\n",
    "print(zeros_squeezed.shape)   "
   ]
  },
  {
   "cell_type": "code",
   "execution_count": 27,
   "id": "67565591",
   "metadata": {},
   "outputs": [
    {
     "name": "stdout",
     "output_type": "stream",
     "text": [
      "torch.Size([224, 224, 3])\n",
      "torch.Size([3, 224, 224])\n",
      "tensor(256.)\n",
      "tensor(256.)\n"
     ]
    }
   ],
   "source": [
    "# Permute - Rearranges the dimensions of a target tensor in a specified order\n",
    "random_image_tensor = torch.rand(size=(224, 224, 3)) # height, width, color channels (RGB)\n",
    "print(random_image_tensor.shape)\n",
    "# Permute the dimensions to (color channels, height, width)\n",
    "permuted_image_tensor = random_image_tensor.permute(2, 0, 1)\n",
    "print(permuted_image_tensor.shape)\n",
    "\n",
    "random_image_tensor[0, 0, 2] = 256\n",
    "print(random_image_tensor[0, 0, 2])\n",
    "print(permuted_image_tensor[2, 0, 0])"
   ]
  },
  {
   "cell_type": "markdown",
   "id": "88ed407f",
   "metadata": {},
   "source": [
    "## Indexing (selecting data with tensors)\n",
    "\n",
    "Indexing with PyTorch is the same as indexing with NumPy"
   ]
  },
  {
   "cell_type": "code",
   "execution_count": 28,
   "id": "a97e5f20",
   "metadata": {},
   "outputs": [
    {
     "name": "stdout",
     "output_type": "stream",
     "text": [
      "tensor([[[1, 2, 3],\n",
      "         [4, 5, 6],\n",
      "         [7, 8, 9]]])\n",
      "torch.Size([1, 3, 3])\n"
     ]
    }
   ],
   "source": [
    "x = torch.arange(1, 10).reshape(1, 3, 3)\n",
    "print(x)\n",
    "print(x.shape)"
   ]
  },
  {
   "cell_type": "code",
   "execution_count": 29,
   "id": "5546e9a8",
   "metadata": {},
   "outputs": [
    {
     "name": "stdout",
     "output_type": "stream",
     "text": [
      "tensor([[1, 2, 3],\n",
      "        [4, 5, 6],\n",
      "        [7, 8, 9]])\n",
      "tensor([1, 2, 3])\n",
      "tensor(1)\n",
      "9\n"
     ]
    }
   ],
   "source": [
    "# Let's index on our new tensor\n",
    "print(x[0]) # first dimension\n",
    "print(x[0][0]) # second dimension\n",
    "print(x[0][0][0]) # third dimension\n",
    "\n",
    "print(x[0][2][2].item())"
   ]
  },
  {
   "cell_type": "code",
   "execution_count": 30,
   "id": "f6e74ed7",
   "metadata": {},
   "outputs": [
    {
     "name": "stdout",
     "output_type": "stream",
     "text": [
      "tensor([[1, 2, 3]])\n"
     ]
    }
   ],
   "source": [
    "# We can also use \":\" to select all of a particular dimension\n",
    "print(x[:, 0]) # all of the first dimension, first row of second dimension, all of third dimension"
   ]
  },
  {
   "cell_type": "code",
   "execution_count": 31,
   "id": "e5a9bb8c",
   "metadata": {},
   "outputs": [
    {
     "name": "stdout",
     "output_type": "stream",
     "text": [
      "tensor([[1, 4, 7]])\n"
     ]
    }
   ],
   "source": [
    "# Get all values of 0th and 1st dimesnions but only 1st value of 2nd dimension\n",
    "print(x[:, :, 0])"
   ]
  },
  {
   "cell_type": "code",
   "execution_count": 32,
   "id": "2d045b0b",
   "metadata": {},
   "outputs": [
    {
     "name": "stdout",
     "output_type": "stream",
     "text": [
      "tensor([1, 2, 3])\n"
     ]
    }
   ],
   "source": [
    "# Get index 0 of 0th and 1st dimension and all values of 2nd dimension\n",
    "print(x[0, 0, :])"
   ]
  },
  {
   "cell_type": "code",
   "execution_count": 33,
   "id": "6cebf8bd",
   "metadata": {},
   "outputs": [
    {
     "name": "stdout",
     "output_type": "stream",
     "text": [
      "tensor(9)\n",
      "tensor([[3, 6, 9]])\n"
     ]
    }
   ],
   "source": [
    "print(x[0, 2, 2])\n",
    "print(x[:, :, 2])"
   ]
  },
  {
   "cell_type": "markdown",
   "id": "b2c819a2",
   "metadata": {},
   "source": [
    "## PyTorch tensors and NumPy\n",
    "\n",
    "NumPy is a popular scientific Python numerical computing library, and so PyTorch has functionality to interact with it.\n",
    "* Data in NumPy, want in PyTorch tensor -> `torch.from_numpy(ndarray)`\n",
    "* PyTorch tensor, want in NumPy -> `torch.Tensor.numpy()`\n"
   ]
  },
  {
   "cell_type": "code",
   "execution_count": 34,
   "id": "9e90aaa2",
   "metadata": {},
   "outputs": [
    {
     "name": "stdout",
     "output_type": "stream",
     "text": [
      "[1 2 3 4 5 6 7] <class 'numpy.ndarray'>\n",
      "tensor([1, 2, 3, 4, 5, 6, 7]) <class 'torch.Tensor'>\n",
      "torch.int64\n"
     ]
    }
   ],
   "source": [
    "# NumPy to PyTorch tensor\n",
    "array = np.arange(1, 8)\n",
    "print(array, type(array))\n",
    "tensor_from_array = torch.from_numpy(array)\n",
    "print(tensor_from_array, type(tensor_from_array))\n",
    "print(tensor_from_array.dtype)"
   ]
  },
  {
   "cell_type": "code",
   "execution_count": 35,
   "id": "7480c284",
   "metadata": {},
   "outputs": [
    {
     "name": "stdout",
     "output_type": "stream",
     "text": [
      "tensor([1., 1., 1., 1., 1., 1., 1.]) <class 'torch.Tensor'>\n",
      "[1. 1. 1. 1. 1. 1. 1.] <class 'numpy.ndarray'>\n",
      "float32\n"
     ]
    }
   ],
   "source": [
    "# PyTorch tensor to NumPy\n",
    "tensor = torch.ones(7)\n",
    "print(tensor, type(tensor))\n",
    "array_from_tensor = tensor.numpy()\n",
    "print(array_from_tensor, type(array_from_tensor))\n",
    "print(array_from_tensor.dtype)"
   ]
  },
  {
   "cell_type": "markdown",
   "id": "ea01e6f4",
   "metadata": {},
   "source": [
    "## Reproducability (trying to takr random out of random)\n",
    "\n",
    "In short, how a neural network learns:\n",
    "`start with random numbers -> tensor ops -> update random nums top make them better representations of the data -> repeat -> repeat ...`\n",
    "\n",
    "But for experiments, we value reproducability, so we can share our work. To reduce this randomness, we have the concept of a **random seed**. A random seed essentially flavours the randomness."
   ]
  },
  {
   "cell_type": "code",
   "execution_count": 36,
   "id": "5e92a72e",
   "metadata": {},
   "outputs": [
    {
     "name": "stdout",
     "output_type": "stream",
     "text": [
      "tensor([[0.7821, 0.2064, 0.9102, 0.0175],\n",
      "        [0.2933, 0.2940, 0.5169, 0.2002],\n",
      "        [0.5145, 0.3285, 0.7504, 0.0979]])\n",
      "tensor([[0.0018, 0.9942, 0.7109, 0.0684],\n",
      "        [0.6971, 0.5029, 0.5866, 0.7717],\n",
      "        [0.6290, 0.6543, 0.0935, 0.1168]])\n",
      "tensor([[False, False, False, False],\n",
      "        [False, False, False, False],\n",
      "        [False, False, False, False]])\n"
     ]
    }
   ],
   "source": [
    "# Create two random tensors\n",
    "rand_tensor_A = torch.rand(3, 4)\n",
    "rand_tensor_B = torch.rand(3, 4)\n",
    "print(rand_tensor_A)\n",
    "print(rand_tensor_B)\n",
    "print(rand_tensor_A == rand_tensor_B)"
   ]
  },
  {
   "cell_type": "code",
   "execution_count": 37,
   "id": "acbf9acb",
   "metadata": {},
   "outputs": [
    {
     "name": "stdout",
     "output_type": "stream",
     "text": [
      "tensor([[0.8823, 0.9150, 0.3829, 0.9593],\n",
      "        [0.3904, 0.6009, 0.2566, 0.7936],\n",
      "        [0.9408, 0.1332, 0.9346, 0.5936]])\n",
      "tensor([[0.8694, 0.5677, 0.7411, 0.4294],\n",
      "        [0.8854, 0.5739, 0.2666, 0.6274],\n",
      "        [0.2696, 0.4414, 0.2969, 0.8317]])\n",
      "tensor([[False, False, False, False],\n",
      "        [False, False, False, False],\n",
      "        [False, False, False, False]])\n",
      "tensor([[0.8823, 0.9150, 0.3829, 0.9593],\n",
      "        [0.3904, 0.6009, 0.2566, 0.7936],\n",
      "        [0.9408, 0.1332, 0.9346, 0.5936]])\n",
      "tensor([[True, True, True, True],\n",
      "        [True, True, True, True],\n",
      "        [True, True, True, True]])\n"
     ]
    }
   ],
   "source": [
    "# Let's make some random tensors with the same random seed, so they are reproducible\n",
    "RANDOM_SEED = 42\n",
    "torch.manual_seed(RANDOM_SEED)\n",
    "rand_tensor_C = torch.rand(3, 4)\n",
    "rand_tensor_D = torch.rand(3, 4)\n",
    "\n",
    "print(rand_tensor_C)\n",
    "print(rand_tensor_D)\n",
    "print(rand_tensor_C == rand_tensor_D)\n",
    "\n",
    "torch.manual_seed(RANDOM_SEED)\n",
    "rand_tensor_E = torch.rand(3, 4)\n",
    "\n",
    "print(rand_tensor_E)\n",
    "print(rand_tensor_C == rand_tensor_E)"
   ]
  },
  {
   "cell_type": "markdown",
   "id": "087e1a1a",
   "metadata": {},
   "source": [
    "## Utilizing GPUs and TPUs\n",
    "For faster computations"
   ]
  },
  {
   "cell_type": "code",
   "execution_count": 41,
   "id": "4e45db11",
   "metadata": {},
   "outputs": [
    {
     "data": {
      "text/plain": [
       "device(type='mps', index=0)"
      ]
     },
     "execution_count": 41,
     "metadata": {},
     "output_type": "execute_result"
    }
   ],
   "source": [
    "rand_tensor_A = rand_tensor_A.to(device)\n",
    "rand_tensor_B = rand_tensor_B.to(device)\n",
    "rand_tensor_A.device\n",
    "rand_tensor_B.device"
   ]
  },
  {
   "cell_type": "markdown",
   "id": "ae570ff8",
   "metadata": {},
   "source": [
    "## Exercise Solutions"
   ]
  },
  {
   "cell_type": "code",
   "execution_count": 49,
   "id": "9284d1c8",
   "metadata": {},
   "outputs": [
    {
     "name": "stdout",
     "output_type": "stream",
     "text": [
      "torch.Size([7, 7])\n",
      "torch.Size([1, 7])\n",
      "torch.Size([7, 1])\n"
     ]
    }
   ],
   "source": [
    "rand_tensor_seven_by_seven = torch.rand(7, 7, device=device)\n",
    "rand_tensor_one_by_seven = torch.rand(1, 7, device=device)\n",
    "print(rand_tensor_seven_by_seven.shape)\n",
    "print(rand_tensor_one_by_seven.shape)\n",
    "\n",
    "mat_mul_op = torch.matmul(rand_tensor_seven_by_seven, rand_tensor_one_by_seven.T)\n",
    "print(mat_mul_op.shape)"
   ]
  },
  {
   "cell_type": "code",
   "execution_count": 59,
   "id": "1eaae4f7",
   "metadata": {},
   "outputs": [
    {
     "name": "stdout",
     "output_type": "stream",
     "text": [
      "torch.Size([7, 7])\n",
      "torch.Size([1, 7])\n",
      "tensor([[1.2568],\n",
      "        [1.2396],\n",
      "        [1.5435],\n",
      "        [1.1623],\n",
      "        [1.1126],\n",
      "        [1.2704],\n",
      "        [0.5872]], device='mps:0')\n",
      "torch.Size([7, 1])\n"
     ]
    }
   ],
   "source": [
    "random_seed_gen = torch.Generator(device=device).manual_seed(0)\n",
    "rand_tensor_seven_by_seven = torch.rand(7, 7, device=device, generator=random_seed_gen)\n",
    "rand_tensor_one_by_seven = torch.rand(1, 7, device=device, generator=random_seed_gen)\n",
    "print(rand_tensor_seven_by_seven.shape)\n",
    "print(rand_tensor_one_by_seven.shape)\n",
    "\n",
    "mat_mul_op = torch.matmul(rand_tensor_seven_by_seven, rand_tensor_one_by_seven.T)\n",
    "print(mat_mul_op)\n",
    "print(mat_mul_op.shape)"
   ]
  },
  {
   "cell_type": "code",
   "execution_count": 70,
   "id": "a1f67c79",
   "metadata": {},
   "outputs": [
    {
     "name": "stdout",
     "output_type": "stream",
     "text": [
      "tensor([[0.4794, 0.7608, 0.8283],\n",
      "        [0.8029, 0.6423, 0.0597]], device='mps:0')\n",
      "tensor([[0.0223, 0.9878, 0.2711],\n",
      "        [0.9123, 0.7672, 0.8879]], device='mps:0')\n",
      "tensor([[0.9868, 1.7565],\n",
      "        [0.6685, 1.2782]], device='mps:0')\n"
     ]
    }
   ],
   "source": [
    "random_seed_gen = torch.Generator(device=device).manual_seed(1234)\n",
    "first_tensor = torch.rand(2, 3, device=device, generator=random_seed_gen)\n",
    "second_tensor = torch.rand(2, 3, device=device, generator=random_seed_gen)\n",
    "print(first_tensor)\n",
    "print(second_tensor)\n",
    "\n",
    "mat_mul_op = torch.matmul(first_tensor, second_tensor.T)\n",
    "print(mat_mul_op)"
   ]
  },
  {
   "cell_type": "code",
   "execution_count": 66,
   "id": "9c2a1017",
   "metadata": {},
   "outputs": [
    {
     "name": "stdout",
     "output_type": "stream",
     "text": [
      "torch.max(mat_mul_op) = tensor(1.7565, device='mps:0')\n",
      "torch.min(mat_mul_op) = tensor(0.6685, device='mps:0')\n",
      "torch.argmax(mat_mul_op) = tensor(1, device='mps:0')\n",
      "torch.argmin(mat_mul_op) = tensor(2, device='mps:0')\n"
     ]
    }
   ],
   "source": [
    "print(f\"{torch.max(mat_mul_op) = }\")\n",
    "print(f\"{torch.min(mat_mul_op) = }\")\n",
    "print(f\"{torch.argmax(mat_mul_op) = }\")\n",
    "print(f\"{torch.argmin(mat_mul_op) = }\")"
   ]
  },
  {
   "cell_type": "code",
   "execution_count": 72,
   "id": "032a8fe3",
   "metadata": {},
   "outputs": [
    {
     "name": "stdout",
     "output_type": "stream",
     "text": [
      "tensor([[[[0.7544, 0.7100, 0.7095, 0.4036, 0.5627, 0.0098, 0.0498, 0.7344,\n",
      "           0.9472, 0.2643]]]], device='mps:0')\n",
      "torch.Size([1, 1, 1, 10])\n",
      "tensor([0.7544, 0.7100, 0.7095, 0.4036, 0.5627, 0.0098, 0.0498, 0.7344, 0.9472,\n",
      "        0.2643], device='mps:0')\n",
      "torch.Size([10])\n"
     ]
    }
   ],
   "source": [
    "random_seed_gen = torch.Generator(device=device).manual_seed(7)\n",
    "large_rand_tensor = torch.rand(1, 1, 1, 10, device=device, generator=random_seed_gen)\n",
    "print(large_rand_tensor)\n",
    "print(large_rand_tensor.shape)\n",
    "\n",
    "squeezed_tensor = large_rand_tensor.squeeze()\n",
    "print(squeezed_tensor)\n",
    "print(squeezed_tensor.shape)"
   ]
  }
 ],
 "metadata": {
  "kernelspec": {
   "display_name": ".venv (3.12.10)",
   "language": "python",
   "name": "python3"
  },
  "language_info": {
   "codemirror_mode": {
    "name": "ipython",
    "version": 3
   },
   "file_extension": ".py",
   "mimetype": "text/x-python",
   "name": "python",
   "nbconvert_exporter": "python",
   "pygments_lexer": "ipython3",
   "version": "3.12.10"
  }
 },
 "nbformat": 4,
 "nbformat_minor": 5
}
